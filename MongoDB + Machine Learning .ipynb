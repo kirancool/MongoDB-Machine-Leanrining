{
 "cells": [
  {
   "cell_type": "code",
   "execution_count": 13,
   "metadata": {},
   "outputs": [],
   "source": [
    "from pymongo import MongoClient\n",
    "import pymongo\n",
    "\n",
    "client = MongoClient('mongodb://localhost:27017/')"
   ]
  },
  {
   "cell_type": "code",
   "execution_count": 14,
   "metadata": {},
   "outputs": [],
   "source": [
    "db = client['books']"
   ]
  },
  {
   "cell_type": "code",
   "execution_count": 42,
   "metadata": {},
   "outputs": [],
   "source": [
    "books = db.books\n",
    "booklist=books.find()"
   ]
  },
  {
   "cell_type": "code",
   "execution_count": 43,
   "metadata": {},
   "outputs": [
    {
     "name": "stdout",
     "output_type": "stream",
     "text": [
      "{'_id': ObjectId('60583aa8fb36d55126109f89'), 'author': 'Sidney Sheldon', 'about': 'Tell Me Your Dreams', 'tags': ['MPD', 'Murder', 'Mystery']}\n",
      "{'_id': ObjectId('60583ffafb36d55126109f8a'), 'book': 'The Ranch', 'author': 'Danielle Steel'}\n",
      "{'_id': ObjectId('60583ffafb36d55126109f8b'), 'book': 'The Firm', 'author': 'John Grisham'}\n",
      "{'_id': ObjectId('60583ffafb36d55126109f8c'), 'book': 'The runaway jury', 'author': 'John Grisham'}\n",
      "{'_id': ObjectId('60583ffafb36d55126109f8d'), 'book': 'Time to kill', 'author': 'John Grisham'}\n",
      "{'_id': ObjectId('60583ffafb36d55126109f8e'), 'book': 'The testament', 'author': 'John Grisham'}\n",
      "{'_id': ObjectId('60583ffafb36d55126109f8f'), 'book': 'Tell me your Dreams', 'author': 'Sidney Sheldon'}\n"
     ]
    }
   ],
   "source": [
    "for book in booklist:\n",
    "    print(book)"
   ]
  },
  {
   "cell_type": "code",
   "execution_count": 44,
   "metadata": {},
   "outputs": [],
   "source": [
    "import pandas as pd"
   ]
  },
  {
   "cell_type": "code",
   "execution_count": 45,
   "metadata": {},
   "outputs": [],
   "source": [
    "df = pd.DataFrame(list(books.find()))"
   ]
  },
  {
   "cell_type": "code",
   "execution_count": 46,
   "metadata": {},
   "outputs": [
    {
     "data": {
      "text/html": [
       "<div>\n",
       "<style scoped>\n",
       "    .dataframe tbody tr th:only-of-type {\n",
       "        vertical-align: middle;\n",
       "    }\n",
       "\n",
       "    .dataframe tbody tr th {\n",
       "        vertical-align: top;\n",
       "    }\n",
       "\n",
       "    .dataframe thead th {\n",
       "        text-align: right;\n",
       "    }\n",
       "</style>\n",
       "<table border=\"1\" class=\"dataframe\">\n",
       "  <thead>\n",
       "    <tr style=\"text-align: right;\">\n",
       "      <th></th>\n",
       "      <th>_id</th>\n",
       "      <th>author</th>\n",
       "      <th>about</th>\n",
       "      <th>tags</th>\n",
       "      <th>book</th>\n",
       "    </tr>\n",
       "  </thead>\n",
       "  <tbody>\n",
       "    <tr>\n",
       "      <th>0</th>\n",
       "      <td>60583aa8fb36d55126109f89</td>\n",
       "      <td>Sidney Sheldon</td>\n",
       "      <td>Tell Me Your Dreams</td>\n",
       "      <td>[MPD, Murder, Mystery]</td>\n",
       "      <td>NaN</td>\n",
       "    </tr>\n",
       "    <tr>\n",
       "      <th>1</th>\n",
       "      <td>60583ffafb36d55126109f8a</td>\n",
       "      <td>Danielle Steel</td>\n",
       "      <td>NaN</td>\n",
       "      <td>NaN</td>\n",
       "      <td>The Ranch</td>\n",
       "    </tr>\n",
       "    <tr>\n",
       "      <th>2</th>\n",
       "      <td>60583ffafb36d55126109f8b</td>\n",
       "      <td>John Grisham</td>\n",
       "      <td>NaN</td>\n",
       "      <td>NaN</td>\n",
       "      <td>The Firm</td>\n",
       "    </tr>\n",
       "    <tr>\n",
       "      <th>3</th>\n",
       "      <td>60583ffafb36d55126109f8c</td>\n",
       "      <td>John Grisham</td>\n",
       "      <td>NaN</td>\n",
       "      <td>NaN</td>\n",
       "      <td>The runaway jury</td>\n",
       "    </tr>\n",
       "    <tr>\n",
       "      <th>4</th>\n",
       "      <td>60583ffafb36d55126109f8d</td>\n",
       "      <td>John Grisham</td>\n",
       "      <td>NaN</td>\n",
       "      <td>NaN</td>\n",
       "      <td>Time to kill</td>\n",
       "    </tr>\n",
       "  </tbody>\n",
       "</table>\n",
       "</div>"
      ],
      "text/plain": [
       "                        _id          author                about  \\\n",
       "0  60583aa8fb36d55126109f89  Sidney Sheldon  Tell Me Your Dreams   \n",
       "1  60583ffafb36d55126109f8a  Danielle Steel                  NaN   \n",
       "2  60583ffafb36d55126109f8b    John Grisham                  NaN   \n",
       "3  60583ffafb36d55126109f8c    John Grisham                  NaN   \n",
       "4  60583ffafb36d55126109f8d    John Grisham                  NaN   \n",
       "\n",
       "                     tags              book  \n",
       "0  [MPD, Murder, Mystery]               NaN  \n",
       "1                     NaN         The Ranch  \n",
       "2                     NaN          The Firm  \n",
       "3                     NaN  The runaway jury  \n",
       "4                     NaN      Time to kill  "
      ]
     },
     "execution_count": 46,
     "metadata": {},
     "output_type": "execute_result"
    }
   ],
   "source": [
    "df.head()"
   ]
  },
  {
   "cell_type": "code",
   "execution_count": 47,
   "metadata": {},
   "outputs": [
    {
     "data": {
      "text/plain": [
       "_id       0\n",
       "author    0\n",
       "about     6\n",
       "tags      6\n",
       "book      1\n",
       "dtype: int64"
      ]
     },
     "execution_count": 47,
     "metadata": {},
     "output_type": "execute_result"
    }
   ],
   "source": [
    "df.isna().sum()"
   ]
  },
  {
   "cell_type": "code",
   "execution_count": 48,
   "metadata": {},
   "outputs": [],
   "source": [
    "df.fillna(0,inplace=True)"
   ]
  },
  {
   "cell_type": "code",
   "execution_count": 49,
   "metadata": {},
   "outputs": [],
   "source": [
    "df.drop(columns=['_id'],axis=1,inplace=True)"
   ]
  },
  {
   "cell_type": "code",
   "execution_count": 50,
   "metadata": {},
   "outputs": [
    {
     "data": {
      "text/html": [
       "<div>\n",
       "<style scoped>\n",
       "    .dataframe tbody tr th:only-of-type {\n",
       "        vertical-align: middle;\n",
       "    }\n",
       "\n",
       "    .dataframe tbody tr th {\n",
       "        vertical-align: top;\n",
       "    }\n",
       "\n",
       "    .dataframe thead th {\n",
       "        text-align: right;\n",
       "    }\n",
       "</style>\n",
       "<table border=\"1\" class=\"dataframe\">\n",
       "  <thead>\n",
       "    <tr style=\"text-align: right;\">\n",
       "      <th></th>\n",
       "      <th>author</th>\n",
       "      <th>about</th>\n",
       "      <th>tags</th>\n",
       "      <th>book</th>\n",
       "    </tr>\n",
       "  </thead>\n",
       "  <tbody>\n",
       "    <tr>\n",
       "      <th>0</th>\n",
       "      <td>Sidney Sheldon</td>\n",
       "      <td>Tell Me Your Dreams</td>\n",
       "      <td>[MPD, Murder, Mystery]</td>\n",
       "      <td>0</td>\n",
       "    </tr>\n",
       "    <tr>\n",
       "      <th>1</th>\n",
       "      <td>Danielle Steel</td>\n",
       "      <td>0</td>\n",
       "      <td>0</td>\n",
       "      <td>The Ranch</td>\n",
       "    </tr>\n",
       "    <tr>\n",
       "      <th>2</th>\n",
       "      <td>John Grisham</td>\n",
       "      <td>0</td>\n",
       "      <td>0</td>\n",
       "      <td>The Firm</td>\n",
       "    </tr>\n",
       "    <tr>\n",
       "      <th>3</th>\n",
       "      <td>John Grisham</td>\n",
       "      <td>0</td>\n",
       "      <td>0</td>\n",
       "      <td>The runaway jury</td>\n",
       "    </tr>\n",
       "    <tr>\n",
       "      <th>4</th>\n",
       "      <td>John Grisham</td>\n",
       "      <td>0</td>\n",
       "      <td>0</td>\n",
       "      <td>Time to kill</td>\n",
       "    </tr>\n",
       "  </tbody>\n",
       "</table>\n",
       "</div>"
      ],
      "text/plain": [
       "           author                about                    tags  \\\n",
       "0  Sidney Sheldon  Tell Me Your Dreams  [MPD, Murder, Mystery]   \n",
       "1  Danielle Steel                    0                       0   \n",
       "2    John Grisham                    0                       0   \n",
       "3    John Grisham                    0                       0   \n",
       "4    John Grisham                    0                       0   \n",
       "\n",
       "               book  \n",
       "0                 0  \n",
       "1         The Ranch  \n",
       "2          The Firm  \n",
       "3  The runaway jury  \n",
       "4      Time to kill  "
      ]
     },
     "execution_count": 50,
     "metadata": {},
     "output_type": "execute_result"
    }
   ],
   "source": [
    "df.head()"
   ]
  },
  {
   "cell_type": "code",
   "execution_count": null,
   "metadata": {},
   "outputs": [],
   "source": []
  },
  {
   "cell_type": "code",
   "execution_count": null,
   "metadata": {},
   "outputs": [],
   "source": []
  }
 ],
 "metadata": {
  "kernelspec": {
   "display_name": "Python 3",
   "language": "python",
   "name": "python3"
  },
  "language_info": {
   "codemirror_mode": {
    "name": "ipython",
    "version": 3
   },
   "file_extension": ".py",
   "mimetype": "text/x-python",
   "name": "python",
   "nbconvert_exporter": "python",
   "pygments_lexer": "ipython3",
   "version": "3.8.5"
  }
 },
 "nbformat": 4,
 "nbformat_minor": 4
}
